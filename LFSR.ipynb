{
 "cells": [
  {
   "cell_type": "code",
   "execution_count": 24,
   "metadata": {},
   "outputs": [],
   "source": [
    "import numpy as np"
   ]
  },
  {
   "cell_type": "code",
   "execution_count": 23,
   "metadata": {},
   "outputs": [
    {
     "name": "stdout",
     "output_type": "stream",
     "text": [
      "0\n"
     ]
    }
   ],
   "source": [
    "# ------------ test cell -------------------\n",
    "a = 0 \n",
    "b = 0\n",
    "c= a ^ b\n",
    "print(c)   "
   ]
  },
  {
   "cell_type": "code",
   "execution_count": 103,
   "metadata": {},
   "outputs": [],
   "source": [
    "# ------------------- inputs -----------------------\n",
    "message = input(\"please enter the message to encrypt: \")\n",
    "res = str(''.join(format(ord(i), '08b') for i in message))\n",
    "#print(res)\n",
    "\n",
    "initial = str(input(\"initial vector is --> \"))\n",
    "\n",
    "m = int(input(\"m = \"))\n",
    "clik = pow(2,m)\n",
    "\n",
    "p_x = str(input(\"p(x) = \"))\n",
    "XOR_index = []\n",
    "\n",
    "for i in range(len(p_x)):\n",
    "    if p_x[i] == '^':\n",
    "        XOR_index.append(int(p_x[i+1]))\n",
    "    \n",
    "    if p_x[i] == '+' and p_x[i+1] != 'x' and p_x[i+1] != 'X':\n",
    "        XOR_index.append(0)\n",
    "    \n",
    "    if p_x[i] == '+' and i+2 < len(p_x) and p_x[i+2] != '^':\n",
    "        XOR_index.append(1)\n",
    "\n",
    "XOR_index_updated = XOR_index[::-1]\n",
    "#print(XOR_index_updated)"
   ]
  },
  {
   "cell_type": "code",
   "execution_count": 104,
   "metadata": {},
   "outputs": [],
   "source": [
    "def table_of_encryption(clk , init):\n",
    "    \n",
    "    table = np.zeros((clk, len(init)))\n",
    "    key = np.zeros(clk)\n",
    "\n",
    "    for j in range(len(init)):\n",
    "        table[0][j] = int(init[j])\n",
    "\n",
    "    key[0] = int(init[len(init)-1])\n",
    "\n",
    "    for i in range(1,clk):\n",
    "        c = 0\n",
    "\n",
    "        for k in range(1,len(XOR_index)):\n",
    "            c = c ^ int(table[i-1][(len(init)-1)-XOR_index[k]])\n",
    "            #print((len(initial)-1)-XOR_index[k])\n",
    "\n",
    "        table[i][0] = int(c)\n",
    "\n",
    "        for j in range(1,len(init)):  \n",
    "            table[i][j] = table[i-1][j-1]\n",
    "\n",
    "        key[i] = table[i][len(init)-1]\n",
    " \n",
    "    return key , table "
   ]
  },
  {
   "cell_type": "code",
   "execution_count": 105,
   "metadata": {},
   "outputs": [],
   "source": [
    "def table_of_decryption(clk , init):\n",
    "    \n",
    "    table = np.zeros((clk, len(init)))\n",
    "    key = np.zeros(clk)\n",
    "\n",
    "    for j in range(len(init)):\n",
    "        table[0][j] = int(init[j])\n",
    "\n",
    "    key[0] = int(init[len(init)-1])\n",
    "\n",
    "    for i in range(1,clk):\n",
    "        c = 0\n",
    "\n",
    "        for k in range(1,len(XOR_index)):\n",
    "            c = c ^ int(table[i-1][(len(init)-1)-XOR_index[k]])\n",
    "            #print((len(initial)-1)-XOR_index[k])\n",
    "\n",
    "        table[i][0] = int(c)\n",
    "\n",
    "        for j in range(1,len(init)):  \n",
    "            table[i][j] = table[i-1][j-1]\n",
    "\n",
    "        key[i] = table[i][len(init)-1]\n",
    " \n",
    "    return key , table "
   ]
  },
  {
   "cell_type": "code",
   "execution_count": 106,
   "metadata": {},
   "outputs": [],
   "source": [
    "def XOR_function(a , b):\n",
    "\n",
    "    data = np.zeros(len(a))\n",
    "\n",
    "    j = 0 \n",
    "    for i in range(len(a)):\n",
    "\n",
    "        if i % len(b) != 0:\n",
    "             data[i] = int(a[i]) ^ int(b[j])\n",
    "        \n",
    "        else:\n",
    "            j = 0\n",
    "        \n",
    "        j += 1\n",
    "\n",
    "    return data"
   ]
  },
  {
   "cell_type": "code",
   "execution_count": 107,
   "metadata": {},
   "outputs": [],
   "source": [
    "def make_string(a):\n",
    "\n",
    "    s = ''\n",
    "\n",
    "    for i in range(len(a)):\n",
    "        if a[i] == 1:\n",
    "            s = s + '1'\n",
    "        \n",
    "        elif a[i] == 0:\n",
    "            s = s + '0'\n",
    "\n",
    "    return s"
   ]
  },
  {
   "cell_type": "code",
   "execution_count": 108,
   "metadata": {},
   "outputs": [],
   "source": [
    "def type_of_LFSRs(t , clk , init):\n",
    "\n",
    "    c = np.array([])\n",
    "\n",
    "    for i in range(1 , clk): \n",
    "        count = 0\n",
    "        new_t = make_string(t[i])\n",
    "        for j in range(len(init)):\n",
    "\n",
    "            if new_t[j] == init[j]:\n",
    "                count += 1\n",
    "        \n",
    "        #print(new_t)\n",
    "        #print (init)\n",
    "        #print(count)\n",
    "        if count == len(init):\n",
    "            c = np.append(c, i)\n",
    "\n",
    "    #print(c)\n",
    "\n",
    "    if c[0] == clk - 1:\n",
    "        print(\"the type of LFSRs is: primitive\")\n",
    "\n",
    "    else:\n",
    "        for i in range(len(c)):\n",
    "            if c[i+1] % c[i] == 0:\n",
    "                print(\"the type of LFSRs is: irreducible\")\n",
    "        \n",
    "            else:\n",
    "                print(\"the type of LFSRs is: reducible\")\n"
   ]
  },
  {
   "cell_type": "code",
   "execution_count": 109,
   "metadata": {},
   "outputs": [
    {
     "name": "stdout",
     "output_type": "stream",
     "text": [
      "table: \n",
      "[[1. 1. 0. 0.]\n",
      " [0. 1. 1. 0.]\n",
      " [1. 0. 1. 1.]\n",
      " [0. 1. 0. 1.]\n",
      " [0. 0. 1. 0.]\n",
      " [0. 0. 0. 1.]\n",
      " [1. 0. 0. 0.]\n",
      " [1. 1. 0. 0.]\n",
      " [0. 1. 1. 0.]\n",
      " [1. 0. 1. 1.]\n",
      " [0. 1. 0. 1.]\n",
      " [0. 0. 1. 0.]\n",
      " [0. 0. 0. 1.]\n",
      " [1. 0. 0. 0.]\n",
      " [1. 1. 0. 0.]\n",
      " [0. 1. 1. 0.]]\n",
      "message in binary:  01101110011000010110111001100001\n",
      "key:  0011010001101000\n",
      "encrypted data in binary:  01011010000010010101101000001001\n",
      "decrypted data data in binary:  01101110011000010110111001100001\n",
      "decrypted data:  nana\n",
      "the type of LFSRs is: irreducible\n"
     ]
    },
    {
     "ename": "IndexError",
     "evalue": "index 2 is out of bounds for axis 0 with size 2",
     "output_type": "error",
     "traceback": [
      "\u001b[1;31m---------------------------------------------------------------------------\u001b[0m",
      "\u001b[1;31mIndexError\u001b[0m                                Traceback (most recent call last)",
      "\u001b[1;32md:\\Documents\\1\\codes to be delete\\Untitled-1.ipynb Cell 9\u001b[0m line \u001b[0;36m2\n\u001b[0;32m     <a href='vscode-notebook-cell:/d%3A/Documents/1/codes%20to%20be%20delete/Untitled-1.ipynb#W2sZmlsZQ%3D%3D?line=16'>17</a>\u001b[0m \u001b[39mprint\u001b[39m(\u001b[39m\"\u001b[39m\u001b[39mdecrypted data data in binary: \u001b[39m\u001b[39m\"\u001b[39m,make_string(decryption))\n\u001b[0;32m     <a href='vscode-notebook-cell:/d%3A/Documents/1/codes%20to%20be%20delete/Untitled-1.ipynb#W2sZmlsZQ%3D%3D?line=17'>18</a>\u001b[0m \u001b[39mprint\u001b[39m(\u001b[39m\"\u001b[39m\u001b[39mdecrypted data: \u001b[39m\u001b[39m\"\u001b[39m,text_string)\n\u001b[1;32m---> <a href='vscode-notebook-cell:/d%3A/Documents/1/codes%20to%20be%20delete/Untitled-1.ipynb#W2sZmlsZQ%3D%3D?line=19'>20</a>\u001b[0m type_of_LFSRs(table1 , clik , initial)\n",
      "\u001b[1;32md:\\Documents\\1\\codes to be delete\\Untitled-1.ipynb Cell 9\u001b[0m line \u001b[0;36m2\n\u001b[0;32m     <a href='vscode-notebook-cell:/d%3A/Documents/1/codes%20to%20be%20delete/Untitled-1.ipynb#W2sZmlsZQ%3D%3D?line=23'>24</a>\u001b[0m \u001b[39melse\u001b[39;00m:\n\u001b[0;32m     <a href='vscode-notebook-cell:/d%3A/Documents/1/codes%20to%20be%20delete/Untitled-1.ipynb#W2sZmlsZQ%3D%3D?line=24'>25</a>\u001b[0m     \u001b[39mfor\u001b[39;00m i \u001b[39min\u001b[39;00m \u001b[39mrange\u001b[39m(\u001b[39mlen\u001b[39m(c)):\n\u001b[1;32m---> <a href='vscode-notebook-cell:/d%3A/Documents/1/codes%20to%20be%20delete/Untitled-1.ipynb#W2sZmlsZQ%3D%3D?line=25'>26</a>\u001b[0m         \u001b[39mif\u001b[39;00m c[i\u001b[39m+\u001b[39;49m\u001b[39m1\u001b[39;49m] \u001b[39m%\u001b[39m c[i] \u001b[39m==\u001b[39m \u001b[39m0\u001b[39m:\n\u001b[0;32m     <a href='vscode-notebook-cell:/d%3A/Documents/1/codes%20to%20be%20delete/Untitled-1.ipynb#W2sZmlsZQ%3D%3D?line=26'>27</a>\u001b[0m             \u001b[39mprint\u001b[39m(\u001b[39m\"\u001b[39m\u001b[39mthe type of LFSRs is: irreducible\u001b[39m\u001b[39m\"\u001b[39m)\n\u001b[0;32m     <a href='vscode-notebook-cell:/d%3A/Documents/1/codes%20to%20be%20delete/Untitled-1.ipynb#W2sZmlsZQ%3D%3D?line=28'>29</a>\u001b[0m         \u001b[39melse\u001b[39;00m:\n",
      "\u001b[1;31mIndexError\u001b[0m: index 2 is out of bounds for axis 0 with size 2"
     ]
    }
   ],
   "source": [
    "# ----------------------- cell like main ---------------------------------\n",
    "\n",
    "key1, table1 = table_of_encryption(clik , initial)\n",
    "encryption = XOR_function(res , key1)\n",
    "\n",
    "key2, table2 = table_of_decryption(clik , initial)\n",
    "decryption = XOR_function(encryption, key2)\n",
    "decryption_in_string = make_string(decryption)\n",
    "\n",
    "text_string = ''.join(chr(int(decryption_in_string[i:i+8], 2)) for i in range(0, len(decryption_in_string), 8))\n",
    "\n",
    "print(\"table: \")\n",
    "print(table1)\n",
    "print(\"message in binary: \",res)\n",
    "print(\"key: \", make_string(key1))\n",
    "print(\"encrypted data in binary: \", make_string(encryption))\n",
    "print(\"decrypted data data in binary: \",make_string(decryption))\n",
    "print(\"decrypted data: \",text_string)\n",
    "\n",
    "type_of_LFSRs(table1 , clik , initial)"
   ]
  }
 ],
 "metadata": {
  "kernelspec": {
   "display_name": "Python 3",
   "language": "python",
   "name": "python3"
  },
  "language_info": {
   "codemirror_mode": {
    "name": "ipython",
    "version": 3
   },
   "file_extension": ".py",
   "mimetype": "text/x-python",
   "name": "python",
   "nbconvert_exporter": "python",
   "pygments_lexer": "ipython3",
   "version": "3.12.0"
  }
 },
 "nbformat": 4,
 "nbformat_minor": 2
}
